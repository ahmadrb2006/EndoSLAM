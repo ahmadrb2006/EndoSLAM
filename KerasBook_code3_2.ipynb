{
  "nbformat": 4,
  "nbformat_minor": 0,
  "metadata": {
    "colab": {
      "name": "KerasBook-code3-2.ipynb",
      "provenance": [],
      "authorship_tag": "ABX9TyMgWXmouyZELv8MIbI5W33/",
      "include_colab_link": true
    },
    "kernelspec": {
      "name": "python3",
      "display_name": "Python 3"
    },
    "language_info": {
      "name": "python"
    },
    "accelerator": "GPU"
  },
  "cells": [
    {
      "cell_type": "markdown",
      "metadata": {
        "id": "view-in-github",
        "colab_type": "text"
      },
      "source": [
        "<a href=\"https://colab.research.google.com/github/ahmadrb2006/EndoSLAM/blob/master/KerasBook_code3_2.ipynb\" target=\"_parent\"><img src=\"https://colab.research.google.com/assets/colab-badge.svg\" alt=\"Open In Colab\"/></a>"
      ]
    },
    {
      "cell_type": "markdown",
      "source": [
        "# multi-class classification\n"
      ],
      "metadata": {
        "id": "NhpfdGull7TM"
      }
    },
    {
      "cell_type": "code",
      "execution_count": 1,
      "metadata": {
        "id": "Be6JeoyxxNJM"
      },
      "outputs": [],
      "source": [
        "import tensorflow as tf\n",
        "import numpy as np\n",
        "import matplotlib.pyplot as plt\n",
        "\n",
        "from tensorflow import keras\n",
        "from tensorflow.keras import layers\n",
        "from tensorflow.keras import models"
      ]
    },
    {
      "cell_type": "code",
      "source": [
        "from tensorflow.keras.datasets import reuters\n",
        "(tr_data, tr_labels), (te_data, te_labels) = reuters.load_data(num_words=10000)"
      ],
      "metadata": {
        "colab": {
          "base_uri": "https://localhost:8080/"
        },
        "id": "e5Hi6yL3lOWP",
        "outputId": "ee80a038-7642-41a5-dda4-232c17f3589f"
      },
      "execution_count": 2,
      "outputs": [
        {
          "output_type": "stream",
          "name": "stdout",
          "text": [
            "Downloading data from https://storage.googleapis.com/tensorflow/tf-keras-datasets/reuters.npz\n",
            "2113536/2110848 [==============================] - 0s 0us/step\n",
            "2121728/2110848 [==============================] - 0s 0us/step\n"
          ]
        }
      ]
    },
    {
      "cell_type": "code",
      "source": [
        "print(len(tr_data))\n",
        "\n",
        "print(len(te_data))\n",
        "\n",
        "print(tr_data.dtype)"
      ],
      "metadata": {
        "colab": {
          "base_uri": "https://localhost:8080/"
        },
        "id": "HBCHIzmsmZ2v",
        "outputId": "2930594d-4ba4-4466-b745-2303ea1bb616"
      },
      "execution_count": 7,
      "outputs": [
        {
          "output_type": "stream",
          "name": "stdout",
          "text": [
            "8982\n",
            "2246\n",
            "[1, 245, 273, 207, 156, 53, 74, 160, 26, 14, 46, 296, 26, 39, 74, 2979, 3554, 14, 46, 4689, 4329, 86, 61, 3499, 4795, 14, 61, 451, 4329, 17, 12]\n",
            "object\n"
          ]
        }
      ]
    },
    {
      "cell_type": "code",
      "source": [
        "# decoding back to text\n",
        "word_index=reuters.get_word_index()\n",
        "reverse_word_index=dict(\n",
        "    [(value, key) for (key, value) in word_index.items()]\n",
        ")\n",
        "decoded_newswire=\" \".join(\n",
        "    [reverse_word_index.get(i-3, \"?\") for i in tr_data[10]]\n",
        ")\n",
        "print(tr_data[10])\n",
        "print(decoded_newswire)"
      ],
      "metadata": {
        "colab": {
          "base_uri": "https://localhost:8080/"
        },
        "id": "_oK9WSg1nYdv",
        "outputId": "4cfbcea1-2cd9-4caf-e7fb-11a3ef4fcb09"
      },
      "execution_count": 8,
      "outputs": [
        {
          "output_type": "stream",
          "name": "stdout",
          "text": [
            "Downloading data from https://storage.googleapis.com/tensorflow/tf-keras-datasets/reuters_word_index.json\n",
            "557056/550378 [==============================] - 0s 0us/step\n",
            "565248/550378 [==============================] - 0s 0us/step\n",
            "[1, 245, 273, 207, 156, 53, 74, 160, 26, 14, 46, 296, 26, 39, 74, 2979, 3554, 14, 46, 4689, 4329, 86, 61, 3499, 4795, 14, 61, 451, 4329, 17, 12]\n",
            "? period ended december 31 shr profit 11 cts vs loss 24 cts net profit 224 271 vs loss 511 349 revs 7 258 688 vs 7 200 349 reuter 3\n"
          ]
        }
      ]
    },
    {
      "cell_type": "code",
      "source": [
        "# multi-hot encoding the reviews\n",
        "# since the max word index is 10000, each list is converted into a 10000-element\n",
        "# vector, with 1's at locations where that number appeared in the review, and 0's \n",
        "# for the rest. For example: [2,3]=>[0 0 1 1 0 0 0 ...... 0 0] \n",
        "\n",
        "def vectorize_sequences(sequences, dimension=10000):\n",
        "  results=np.zeros((len(sequences), dimension))\n",
        "  for i, sequence in enumerate(sequences):\n",
        "    for j in sequence:\n",
        "      results[i, j]=1.\n",
        "  return results\n",
        "\n",
        "x_train = vectorize_sequences(tr_data)\n",
        "x_test = vectorize_sequences(te_data)\n",
        "\n",
        "# print(x_train[0])\n",
        "\n",
        "y_train = np.asarray(tr_labels).astype(\"float32\")\n",
        "y_test = np.asarray(te_labels).astype(\"float32\")\n",
        "\n",
        "print(x_train.shape)"
      ],
      "metadata": {
        "colab": {
          "base_uri": "https://localhost:8080/"
        },
        "id": "0uJblwPhoF1-",
        "outputId": "dd9033bc-518a-4404-abb5-72036d461790"
      },
      "execution_count": 31,
      "outputs": [
        {
          "output_type": "stream",
          "name": "stdout",
          "text": [
            "(8982, 10000)\n"
          ]
        }
      ]
    },
    {
      "cell_type": "code",
      "source": [
        "# categorical encoding can be done using Keras internal functions\n",
        "from tensorflow.keras.utils import to_categorical\n",
        "\n",
        "y_train = to_categorical(tr_labels)\n",
        "y_test = to_categorical(te_labels)\n",
        "\n",
        "print(tr_labels)\n",
        "\n",
        "print(y_train.shape)"
      ],
      "metadata": {
        "colab": {
          "base_uri": "https://localhost:8080/"
        },
        "id": "1-1NuFCrpFoO",
        "outputId": "4027f075-2814-403a-e971-0f23ec8c5902"
      },
      "execution_count": 32,
      "outputs": [
        {
          "output_type": "stream",
          "name": "stdout",
          "text": [
            "[ 3  4  3 ... 25  3 25]\n",
            "(8982, 46)\n"
          ]
        }
      ]
    },
    {
      "cell_type": "code",
      "source": [
        "model = keras.Sequential([\n",
        "                          layers.Dense(64, activation=\"relu\"),\n",
        "                          layers.Dense(64, activation=\"relu\"),\n",
        "                          layers.Dense(46, activation=\"softmax\")\n",
        "]\n",
        ")\n",
        "\n",
        "model.compile(optimizer=\"rmsprop\",\n",
        "              loss=\"categorical_crossentropy\",\n",
        "              metrics=[\"accuracy\"])"
      ],
      "metadata": {
        "id": "8OXwKxxksJcg"
      },
      "execution_count": 40,
      "outputs": []
    },
    {
      "cell_type": "code",
      "source": [
        "x_val = x_train[:1000]\n",
        "partial_x_train=x_train[1000:]\n",
        "y_val = y_train[:1000]\n",
        "partial_y_train=y_train[1000:]"
      ],
      "metadata": {
        "id": "Gcb62mf8tebf"
      },
      "execution_count": 41,
      "outputs": []
    },
    {
      "cell_type": "code",
      "source": [
        "history=model.fit(partial_x_train,\n",
        "                  partial_y_train,\n",
        "                  epochs=9,\n",
        "                  batch_size=512,\n",
        "                  validation_data=(x_val, y_val))"
      ],
      "metadata": {
        "colab": {
          "base_uri": "https://localhost:8080/"
        },
        "id": "xmMO1NMStr0e",
        "outputId": "d7e161b9-cd10-4c6f-c7a5-25c28c084f86"
      },
      "execution_count": 42,
      "outputs": [
        {
          "output_type": "stream",
          "name": "stdout",
          "text": [
            "Epoch 1/9\n",
            "16/16 [==============================] - 1s 29ms/step - loss: 2.6492 - accuracy: 0.4962 - val_loss: 1.7179 - val_accuracy: 0.6420\n",
            "Epoch 2/9\n",
            "16/16 [==============================] - 0s 15ms/step - loss: 1.4086 - accuracy: 0.7115 - val_loss: 1.2994 - val_accuracy: 0.7200\n",
            "Epoch 3/9\n",
            "16/16 [==============================] - 0s 15ms/step - loss: 1.0361 - accuracy: 0.7853 - val_loss: 1.1199 - val_accuracy: 0.7660\n",
            "Epoch 4/9\n",
            "16/16 [==============================] - 0s 15ms/step - loss: 0.8206 - accuracy: 0.8271 - val_loss: 1.0349 - val_accuracy: 0.7790\n",
            "Epoch 5/9\n",
            "16/16 [==============================] - 0s 16ms/step - loss: 0.6499 - accuracy: 0.8624 - val_loss: 0.9691 - val_accuracy: 0.8010\n",
            "Epoch 6/9\n",
            "16/16 [==============================] - 0s 16ms/step - loss: 0.5253 - accuracy: 0.8850 - val_loss: 0.9401 - val_accuracy: 0.7990\n",
            "Epoch 7/9\n",
            "16/16 [==============================] - 0s 15ms/step - loss: 0.4221 - accuracy: 0.9085 - val_loss: 0.9188 - val_accuracy: 0.8010\n",
            "Epoch 8/9\n",
            "16/16 [==============================] - 0s 15ms/step - loss: 0.3421 - accuracy: 0.9265 - val_loss: 0.9082 - val_accuracy: 0.8040\n",
            "Epoch 9/9\n",
            "16/16 [==============================] - 0s 15ms/step - loss: 0.2866 - accuracy: 0.9379 - val_loss: 0.9109 - val_accuracy: 0.8160\n"
          ]
        }
      ]
    },
    {
      "cell_type": "code",
      "source": [
        "results=model.evaluate(x_test, y_test)\n",
        "print(results)\n",
        "\n",
        "# getting history dict\n",
        "history_dict=history.history\n",
        "print(history_dict.keys())\n",
        "# plotting the training and validation loss\n",
        "\n",
        "loss_values=history_dict[\"loss\"]\n",
        "val_loss_values = history_dict[\"val_loss\"]\n",
        "epochs=range(1, len(loss_values)+1)\n",
        "plt.plot(epochs, loss_values, \"bo\", label=\"training loss\")\n",
        "plt.plot(epochs, val_loss_values, \"b\", label=\"validation loss\")\n",
        "plt.title(\"training and validation loss\")\n",
        "plt.xlabel(\"epochs\")\n",
        "plt.ylabel(\"loss\")\n",
        "plt.legend()\n",
        "plt.show()\n"
      ],
      "metadata": {
        "colab": {
          "base_uri": "https://localhost:8080/",
          "height": 347
        },
        "id": "BUa7tuQquIK-",
        "outputId": "3ddd4e5d-251b-478a-a654-41b0bf3da22e"
      },
      "execution_count": 43,
      "outputs": [
        {
          "output_type": "stream",
          "name": "stdout",
          "text": [
            "71/71 [==============================] - 0s 3ms/step - loss: 1.0040 - accuracy: 0.7898\n",
            "[1.0040067434310913, 0.7898486256599426]\n",
            "dict_keys(['loss', 'accuracy', 'val_loss', 'val_accuracy'])\n"
          ]
        },
        {
          "output_type": "display_data",
          "data": {
            "image/png": "[encoded data removed]",
            "text/plain": [
              "<Figure size 432x288 with 1 Axes>"
            ]
          },
          "metadata": {
            "needs_background": "light"
          }
        }
      ]
    },
    {
      "cell_type": "code",
      "source": [
        "# getting history dict\n",
        "history_dict=history.history\n",
        "print(history_dict.keys())\n",
        "# plotting the training and validation loss\n",
        "\n",
        "loss_values=history_dict[\"accuracy\"]\n",
        "val_loss_values = history_dict[\"val_accuracy\"]\n",
        "epochs=range(1, len(loss_values)+1)\n",
        "plt.plot(epochs, loss_values, \"bo\", label=\"training accuracy\")\n",
        "plt.plot(epochs, val_loss_values, \"b\", label=\"validation accuracy\")\n",
        "plt.title(\"training and validation accuracy\")\n",
        "plt.xlabel(\"epochs\")\n",
        "plt.ylabel(\"loss\")\n",
        "plt.legend()\n",
        "plt.show()\n"
      ],
      "metadata": {
        "colab": {
          "base_uri": "https://localhost:8080/",
          "height": 312
        },
        "id": "eI-FIDi6uRr_",
        "outputId": "957c930c-231f-46c8-b42b-be05ad0dc164"
      },
      "execution_count": 45,
      "outputs": [
        {
          "output_type": "stream",
          "name": "stdout",
          "text": [
            "dict_keys(['loss', 'accuracy', 'val_loss', 'val_accuracy'])\n"
          ]
        },
        {
          "output_type": "display_data",
          "data": {
            "image/png": "[encoded data removed]",
            "text/plain": [
              "<Figure size 432x288 with 1 Axes>"
            ]
          },
          "metadata": {
            "needs_background": "light"
          }
        }
      ]
    },
    {
      "cell_type": "code",
      "source": [
        "import copy\n",
        "te_labels_copy=copy.copy(te_labels)\n",
        "np.random.shuffle(te_labels_copy)\n",
        "hits_array=np.array(te_labels)==np.array(te_labels_copy)\n",
        "print(hits_array.mean())"
      ],
      "metadata": {
        "colab": {
          "base_uri": "https://localhost:8080/"
        },
        "id": "wg7m3c46vATv",
        "outputId": "f2ac68c5-2740-4f86-ffbe-9f465f1aad3f"
      },
      "execution_count": 46,
      "outputs": [
        {
          "output_type": "stream",
          "name": "stdout",
          "text": [
            "0.1803205699020481\n"
          ]
        }
      ]
    }
  ]
}